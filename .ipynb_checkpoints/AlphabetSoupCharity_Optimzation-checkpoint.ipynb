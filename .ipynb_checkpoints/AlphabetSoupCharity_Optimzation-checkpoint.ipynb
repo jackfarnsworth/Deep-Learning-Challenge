{
 "cells": [
  {
   "cell_type": "code",
   "execution_count": 1,
   "metadata": {
    "scrolled": true
   },
   "outputs": [
    {
     "data": {
      "text/html": [
       "<div>\n",
       "<style scoped>\n",
       "    .dataframe tbody tr th:only-of-type {\n",
       "        vertical-align: middle;\n",
       "    }\n",
       "\n",
       "    .dataframe tbody tr th {\n",
       "        vertical-align: top;\n",
       "    }\n",
       "\n",
       "    .dataframe thead th {\n",
       "        text-align: right;\n",
       "    }\n",
       "</style>\n",
       "<table border=\"1\" class=\"dataframe\">\n",
       "  <thead>\n",
       "    <tr style=\"text-align: right;\">\n",
       "      <th></th>\n",
       "      <th>EIN</th>\n",
       "      <th>NAME</th>\n",
       "      <th>APPLICATION_TYPE</th>\n",
       "      <th>AFFILIATION</th>\n",
       "      <th>CLASSIFICATION</th>\n",
       "      <th>USE_CASE</th>\n",
       "      <th>ORGANIZATION</th>\n",
       "      <th>STATUS</th>\n",
       "      <th>INCOME_AMT</th>\n",
       "      <th>SPECIAL_CONSIDERATIONS</th>\n",
       "      <th>ASK_AMT</th>\n",
       "      <th>IS_SUCCESSFUL</th>\n",
       "    </tr>\n",
       "  </thead>\n",
       "  <tbody>\n",
       "    <tr>\n",
       "      <th>0</th>\n",
       "      <td>10520599</td>\n",
       "      <td>BLUE KNIGHTS MOTORCYCLE CLUB</td>\n",
       "      <td>T10</td>\n",
       "      <td>Independent</td>\n",
       "      <td>C1000</td>\n",
       "      <td>ProductDev</td>\n",
       "      <td>Association</td>\n",
       "      <td>1</td>\n",
       "      <td>0</td>\n",
       "      <td>N</td>\n",
       "      <td>5000</td>\n",
       "      <td>1</td>\n",
       "    </tr>\n",
       "    <tr>\n",
       "      <th>1</th>\n",
       "      <td>10531628</td>\n",
       "      <td>AMERICAN CHESAPEAKE CLUB CHARITABLE TR</td>\n",
       "      <td>T3</td>\n",
       "      <td>Independent</td>\n",
       "      <td>C2000</td>\n",
       "      <td>Preservation</td>\n",
       "      <td>Co-operative</td>\n",
       "      <td>1</td>\n",
       "      <td>1-9999</td>\n",
       "      <td>N</td>\n",
       "      <td>108590</td>\n",
       "      <td>1</td>\n",
       "    </tr>\n",
       "    <tr>\n",
       "      <th>2</th>\n",
       "      <td>10547893</td>\n",
       "      <td>ST CLOUD PROFESSIONAL FIREFIGHTERS</td>\n",
       "      <td>T5</td>\n",
       "      <td>CompanySponsored</td>\n",
       "      <td>C3000</td>\n",
       "      <td>ProductDev</td>\n",
       "      <td>Association</td>\n",
       "      <td>1</td>\n",
       "      <td>0</td>\n",
       "      <td>N</td>\n",
       "      <td>5000</td>\n",
       "      <td>0</td>\n",
       "    </tr>\n",
       "    <tr>\n",
       "      <th>3</th>\n",
       "      <td>10553066</td>\n",
       "      <td>SOUTHSIDE ATHLETIC ASSOCIATION</td>\n",
       "      <td>T3</td>\n",
       "      <td>CompanySponsored</td>\n",
       "      <td>C2000</td>\n",
       "      <td>Preservation</td>\n",
       "      <td>Trust</td>\n",
       "      <td>1</td>\n",
       "      <td>10000-24999</td>\n",
       "      <td>N</td>\n",
       "      <td>6692</td>\n",
       "      <td>1</td>\n",
       "    </tr>\n",
       "    <tr>\n",
       "      <th>4</th>\n",
       "      <td>10556103</td>\n",
       "      <td>GENETIC RESEARCH INSTITUTE OF THE DESERT</td>\n",
       "      <td>T3</td>\n",
       "      <td>Independent</td>\n",
       "      <td>C1000</td>\n",
       "      <td>Heathcare</td>\n",
       "      <td>Trust</td>\n",
       "      <td>1</td>\n",
       "      <td>100000-499999</td>\n",
       "      <td>N</td>\n",
       "      <td>142590</td>\n",
       "      <td>1</td>\n",
       "    </tr>\n",
       "  </tbody>\n",
       "</table>\n",
       "</div>"
      ],
      "text/plain": [
       "        EIN                                      NAME APPLICATION_TYPE  \\\n",
       "0  10520599              BLUE KNIGHTS MOTORCYCLE CLUB              T10   \n",
       "1  10531628    AMERICAN CHESAPEAKE CLUB CHARITABLE TR               T3   \n",
       "2  10547893        ST CLOUD PROFESSIONAL FIREFIGHTERS               T5   \n",
       "3  10553066            SOUTHSIDE ATHLETIC ASSOCIATION               T3   \n",
       "4  10556103  GENETIC RESEARCH INSTITUTE OF THE DESERT               T3   \n",
       "\n",
       "        AFFILIATION CLASSIFICATION      USE_CASE  ORGANIZATION  STATUS  \\\n",
       "0       Independent          C1000    ProductDev   Association       1   \n",
       "1       Independent          C2000  Preservation  Co-operative       1   \n",
       "2  CompanySponsored          C3000    ProductDev   Association       1   \n",
       "3  CompanySponsored          C2000  Preservation         Trust       1   \n",
       "4       Independent          C1000     Heathcare         Trust       1   \n",
       "\n",
       "      INCOME_AMT SPECIAL_CONSIDERATIONS  ASK_AMT  IS_SUCCESSFUL  \n",
       "0              0                      N     5000              1  \n",
       "1         1-9999                      N   108590              1  \n",
       "2              0                      N     5000              0  \n",
       "3    10000-24999                      N     6692              1  \n",
       "4  100000-499999                      N   142590              1  "
      ]
     },
     "execution_count": 1,
     "metadata": {},
     "output_type": "execute_result"
    }
   ],
   "source": [
    "# Import our dependencies\n",
    "from sklearn.model_selection import train_test_split\n",
    "from sklearn.preprocessing import StandardScaler\n",
    "from scipy import stats\n",
    "import pandas as pd\n",
    "import tensorflow as tf\n",
    "import numpy as np\n",
    "\n",
    "#  Import and read the charity_data.csv.\n",
    "import pandas as pd \n",
    "application_df = pd.read_csv(\"charity_data.csv\")\n",
    "application_df.head()"
   ]
  },
  {
   "cell_type": "code",
   "execution_count": 2,
   "metadata": {},
   "outputs": [
    {
     "data": {
      "text/plain": [
       "21641    50000000-60000000\n",
       "11824    50000000-60000000\n",
       "32385    50000000-60000000\n",
       "32384    50000000-60000000\n",
       "24257    50000000-60000000\n",
       "               ...        \n",
       "23233      5000000-1000000\n",
       "33052      5000000-1000000\n",
       "23821      5000000-1000000\n",
       "33137      5000000-1000000\n",
       "21455    35000000-35000000\n",
       "Name: INCOME_AMT, Length: 325, dtype: object"
      ]
     },
     "execution_count": 2,
     "metadata": {},
     "output_type": "execute_result"
    }
   ],
   "source": [
    "application_df['INCOME_AMT'] = application_df['INCOME_AMT'].replace('0', '1-1')\n",
    "application_df['INCOME_AMT'] = application_df['INCOME_AMT'].replace('5M-10M', '5000000-1000000')\n",
    "application_df['INCOME_AMT'] = application_df['INCOME_AMT'].replace('50M+', '50000000-60000000')\n",
    "application_df['INCOME_AMT'] = application_df['INCOME_AMT'].replace('10M-50M', '35000000-35000000')\n",
    "application_df['INCOME_AMT'] = application_df['INCOME_AMT'].replace('1M-5M', '3500000-3500000')\n",
    "application_df['INCOME_AMT'].sort_values(ascending=False).head(325)"
   ]
  },
  {
   "cell_type": "code",
   "execution_count": 3,
   "metadata": {},
   "outputs": [],
   "source": [
    "def incomeaskratio(income): \n",
    "    high_low = income.split('-')\n",
    "    average = (int(high_low[0]) + int(high_low[1]))/2\n",
    "    return average\n",
    "        \n",
    "        \n",
    "application_df['ASK_INCOME_RATIO'] = application_df['ASK_AMT']/application_df['INCOME_AMT'].apply(lambda x: incomeaskratio(x))\n"
   ]
  },
  {
   "cell_type": "code",
   "execution_count": 4,
   "metadata": {},
   "outputs": [],
   "source": [
    "application_df['INCOME_AMT'] = application_df['INCOME_AMT'].apply(lambda x: incomeaskratio(x))"
   ]
  },
  {
   "cell_type": "code",
   "execution_count": 5,
   "metadata": {
    "scrolled": true
   },
   "outputs": [],
   "source": [
    "# Drop the non-beneficial ID columns, 'EIN' and 'NAME'.\n",
    "application_df.drop(columns = ['EIN','STATUS', 'SPECIAL_CONSIDERATIONS'], inplace = True)\n"
   ]
  },
  {
   "cell_type": "code",
   "execution_count": 6,
   "metadata": {},
   "outputs": [],
   "source": [
    "application_df = application_df[(np.abs(stats.zscore(application_df['ASK_AMT'])) < 3)].dropna()\n"
   ]
  },
  {
   "cell_type": "code",
   "execution_count": 7,
   "metadata": {
    "scrolled": true
   },
   "outputs": [
    {
     "data": {
      "text/plain": [
       "Preservation     28065\n",
       "ProductDev        5668\n",
       "CommunityServ      384\n",
       "Heathcare          126\n",
       "Other                3\n",
       "Name: USE_CASE, dtype: int64"
      ]
     },
     "execution_count": 7,
     "metadata": {},
     "output_type": "execute_result"
    }
   ],
   "source": [
    "application_df['USE_CASE'].value_counts()"
   ]
  },
  {
   "cell_type": "code",
   "execution_count": 8,
   "metadata": {},
   "outputs": [
    {
     "data": {
      "text/plain": [
       "Preservation    28065\n",
       "ProductDev       5668\n",
       "Other             513\n",
       "Name: USE_CASE, dtype: int64"
      ]
     },
     "execution_count": 8,
     "metadata": {},
     "output_type": "execute_result"
    }
   ],
   "source": [
    "use_cases_to_replace = ['CommunityServ', 'Heathcare']\n",
    "\n",
    "# Replace in dataframe\n",
    "for use in use_cases_to_replace:\n",
    "    application_df['USE_CASE'] = application_df['USE_CASE'].replace(use,\"Other\")\n",
    "\n",
    "# Check to make sure binning was successful\n",
    "application_df['USE_CASE'].value_counts()"
   ]
  },
  {
   "cell_type": "code",
   "execution_count": 9,
   "metadata": {},
   "outputs": [
    {
     "data": {
      "text/plain": [
       "T3       26987\n",
       "T4        1542\n",
       "T6        1216\n",
       "T5        1173\n",
       "T19       1065\n",
       "T8         737\n",
       "T7         725\n",
       "T10        528\n",
       "Other      273\n",
       "Name: APPLICATION_TYPE, dtype: int64"
      ]
     },
     "execution_count": 9,
     "metadata": {},
     "output_type": "execute_result"
    }
   ],
   "source": [
    "# Choose a cutoff value and create a list of application types to be replaced\n",
    "# use the variable name `application_types_to_replace`\n",
    "\n",
    "count = application_df.APPLICATION_TYPE.value_counts()\n",
    "application_types_to_replace = list(count[count < 200].index)\n",
    "\n",
    "# Replace in dataframe\n",
    "for app in application_types_to_replace:\n",
    "    application_df['APPLICATION_TYPE'] = application_df['APPLICATION_TYPE'].replace(app,\"Other\")\n",
    "\n",
    "# Check to make sure binning was successful\n",
    "application_df['APPLICATION_TYPE'].value_counts()"
   ]
  },
  {
   "cell_type": "code",
   "execution_count": 10,
   "metadata": {},
   "outputs": [
    {
     "data": {
      "text/plain": [
       "C1000    17291\n",
       "C2000     6064\n",
       "C1200     4831\n",
       "Other     2259\n",
       "C3000     1918\n",
       "C2100     1883\n",
       "Name: CLASSIFICATION, dtype: int64"
      ]
     },
     "execution_count": 10,
     "metadata": {},
     "output_type": "execute_result"
    }
   ],
   "source": [
    "count = application_df.CLASSIFICATION.value_counts()\n",
    "# Choose a cutoff value and create a list of classifications to be replaced\n",
    "# use the variable name `classifications_to_replace`\n",
    "classifications_to_replace = list(count[count < 800].index)\n",
    "\n",
    "# Replace in dataframe\n",
    "for cls in classifications_to_replace:\n",
    "    application_df['CLASSIFICATION'] = application_df['CLASSIFICATION'].replace(cls,\"Other\")\n",
    "    \n",
    "# Check to make sure binning was successful\n",
    "application_df['CLASSIFICATION'].value_counts()"
   ]
  },
  {
   "cell_type": "code",
   "execution_count": 11,
   "metadata": {},
   "outputs": [
    {
     "data": {
      "text/plain": [
       "OTHER                                                                 24492\n",
       "PARENT BOOSTER USA INC                                                 1260\n",
       "TOPS CLUB INC                                                           765\n",
       "UNITED STATES BOWLING CONGRESS INC                                      700\n",
       "WASHINGTON STATE UNIVERSITY                                             492\n",
       "AMATEUR ATHLETIC UNION OF THE UNITED STATES INC                         408\n",
       "PTA TEXAS CONGRESS                                                      368\n",
       "SOROPTIMIST INTERNATIONAL OF THE AMERICAS INC                           331\n",
       "ALPHA PHI SIGMA                                                         313\n",
       "TOASTMASTERS INTERNATIONAL                                              293\n",
       "MOST WORSHIPFUL STRINGER FREE AND ACCEPTED MASONS                       287\n",
       "LITTLE LEAGUE BASEBALL INC                                              277\n",
       "INTERNATIONAL ASSOCIATION OF LIONS CLUBS                                266\n",
       "MOMS CLUB                                                               210\n",
       "INTERNATIONAL ASSOCIATION OF SHEET METAL AIR RAIL & TRANSPORTATION      206\n",
       "AMERICAN ASSOCIATION OF UNIVERSITY WOMEN                                197\n",
       "FARMERS EDUCATIONAL AND COOPERATIVE UNION OF AMERICA                    166\n",
       "KNIGHTS OF COLUMBUS                                                     158\n",
       "HABITAT FOR HUMANITY INTERNATIONAL INC                                  154\n",
       "TENNESSEE ORDER OF THE EASTERN STAR                                     151\n",
       "VETERANS OF FOREIGN WARS OF THE UNITED STATES AUXILIARY                 144\n",
       "PTA UTAH CONGRESS                                                       140\n",
       "THE UNITED STATES PONY CLUBS INC                                        136\n",
       "CIVITAN INTERNATIONAL                                                   131\n",
       "SIGMA BETA DELTA INC                                                    127\n",
       "MONTANA 4-H FOUNDATION INC                                              107\n",
       "HONOR SOCIETY OF PHI KAPPA PHI                                          107\n",
       "WASHINGTON STATE GRANGE                                                 106\n",
       "UNIVERSITY OF WYOMING                                                   105\n",
       "DEMOLAY INTERNATIONAL                                                   104\n",
       "SERTOMA INC                                                             103\n",
       "AIR FORCE ASSOCIATION                                                    99\n",
       "WORKERS UNITED                                                           97\n",
       "GAMMA THETA UPSILON                                                      92\n",
       "INTERNATIONAL ASSOCIATION OF FIRE FIGHTERS                               91\n",
       "SOCIETY OF SAINT VINCENT DE PAUL COUNCIL OF LOS ANGELES                  87\n",
       "ROTARY INTERNATIONAL                                                     84\n",
       "CALIFORNIA GARDEN CLUBS INC                                              76\n",
       "SWEET ADELINES INTERNATIONAL                                             73\n",
       "DISABLED AMERICAN VETERANS                                               73\n",
       "KLEIN SUPPORT GROUPS INC                                                 69\n",
       "CLEARCREEK I S D SUPPORT GROUPS                                          60\n",
       "VFW AUXILIARY DEPARTMENT OF OKLAHOMA INC                                 58\n",
       "CISD EDUCATIONAL SUPPORT GROUPS INC                                      57\n",
       "DEPARTMENT OF KANSAS LADIES AUXILIARY TO THE VFW OF THE US INC           57\n",
       "SONS OF CONFEDERATE VETERANS INC                                         56\n",
       "SLOW FOOD USA INC                                                        55\n",
       "NATIONAL YOUNG MENS SERVICE LEAGUE                                       54\n",
       "AMATEUR ATHLETIC UNION OF THE UNITED STATES                              52\n",
       "LAMBDA THETA ALPHA                                                       52\n",
       "UNITED FEDERATION OF DOLL CLUBS INC                                      50\n",
       "UNIVERSITY OF FLORIDA                                                    50\n",
       "Name: NAME, dtype: int64"
      ]
     },
     "execution_count": 11,
     "metadata": {},
     "output_type": "execute_result"
    }
   ],
   "source": [
    "count = application_df.NAME.value_counts()\n",
    "# Choose a cutoff value and create a list of classifications to be replaced\n",
    "# use the variable name `classifications_to_replace`\n",
    "names_to_replace = list(count[count < 50].index)\n",
    "\n",
    "# Replace in dataframe\n",
    "for name in names_to_replace:\n",
    "    application_df['NAME'] = application_df['NAME'].replace(name,\"OTHER\")\n",
    "    \n",
    "# Check to make sure binning was successful\n",
    "application_df['NAME'].value_counts()"
   ]
  },
  {
   "cell_type": "code",
   "execution_count": 12,
   "metadata": {},
   "outputs": [],
   "source": [
    "dummy_df = pd.get_dummies(application_df)"
   ]
  },
  {
   "cell_type": "code",
   "execution_count": 13,
   "metadata": {},
   "outputs": [],
   "source": [
    "# Split our preprocessed data into our features and target arrays\n",
    "features = dummy_df.drop(columns = ['IS_SUCCESSFUL']).values\n",
    "target = dummy_df['IS_SUCCESSFUL'].values\n",
    "# Split the preprocessed data into a training and testing dataset\n",
    "\n",
    "X_train, X_test, Y_train, Y_test = train_test_split(features, target)"
   ]
  },
  {
   "cell_type": "code",
   "execution_count": 14,
   "metadata": {},
   "outputs": [
    {
     "data": {
      "text/plain": [
       "array([1.e+00, 5.e+03, 5.e+03, 0.e+00, 0.e+00, 0.e+00, 0.e+00, 0.e+00,\n",
       "       0.e+00, 0.e+00, 0.e+00, 0.e+00, 0.e+00, 0.e+00, 0.e+00, 0.e+00,\n",
       "       0.e+00, 0.e+00, 0.e+00, 0.e+00, 0.e+00, 0.e+00, 0.e+00, 0.e+00,\n",
       "       0.e+00, 0.e+00, 0.e+00, 0.e+00, 0.e+00, 0.e+00, 1.e+00, 0.e+00,\n",
       "       0.e+00, 0.e+00, 0.e+00, 0.e+00, 0.e+00, 0.e+00, 0.e+00, 0.e+00,\n",
       "       0.e+00, 0.e+00, 0.e+00, 0.e+00, 0.e+00, 0.e+00, 0.e+00, 0.e+00,\n",
       "       0.e+00, 0.e+00, 0.e+00, 0.e+00, 0.e+00, 0.e+00, 0.e+00, 0.e+00,\n",
       "       0.e+00, 0.e+00, 1.e+00, 0.e+00, 0.e+00, 0.e+00, 0.e+00, 0.e+00,\n",
       "       1.e+00, 0.e+00, 0.e+00, 0.e+00, 0.e+00, 0.e+00, 0.e+00, 0.e+00,\n",
       "       1.e+00, 0.e+00, 0.e+00, 0.e+00, 1.e+00, 0.e+00, 0.e+00, 0.e+00,\n",
       "       0.e+00, 0.e+00, 1.e+00])"
      ]
     },
     "execution_count": 14,
     "metadata": {},
     "output_type": "execute_result"
    }
   ],
   "source": [
    "# Create a StandardScaler instances\n",
    "scaler = StandardScaler()\n",
    "\n",
    "# Fit the StandardScaler\n",
    "X_scaler = scaler.fit(X_train)\n",
    "\n",
    "# Scale the data\n",
    "X_train_scaled = X_scaler.transform(X_train)\n",
    "X_test_scaled = X_scaler.transform(X_test)\n",
    "X_train[0]"
   ]
  },
  {
   "cell_type": "code",
   "execution_count": 15,
   "metadata": {},
   "outputs": [
    {
     "name": "stdout",
     "output_type": "stream",
     "text": [
      "Model: \"sequential\"\n",
      "_________________________________________________________________\n",
      "Layer (type)                 Output Shape              Param #   \n",
      "=================================================================\n",
      "dense (Dense)                (None, 100)               8400      \n",
      "_________________________________________________________________\n",
      "dense_1 (Dense)              (None, 40)                4040      \n",
      "_________________________________________________________________\n",
      "dense_2 (Dense)              (None, 30)                1230      \n",
      "_________________________________________________________________\n",
      "dense_3 (Dense)              (None, 1)                 31        \n",
      "=================================================================\n",
      "Total params: 13,701\n",
      "Trainable params: 13,701\n",
      "Non-trainable params: 0\n",
      "_________________________________________________________________\n"
     ]
    }
   ],
   "source": [
    "# Define the model - deep neural net, i.e., the number of input features and hidden nodes for each layer.\n",
    "inputs = len(X_train[0])\n",
    "layer1 = 100\n",
    "layer2 = 40\n",
    "layer3 = 30\n",
    "nn = tf.keras.models.Sequential()\n",
    "\n",
    "# First hidden layer\n",
    "nn.add(\n",
    "    tf.keras.layers.Dense(units = layer1, input_dim=inputs, activation = \"swish\")\n",
    ")\n",
    "\n",
    "# Second hidden layer\n",
    "nn.add(\n",
    "    tf.keras.layers.Dense(units = layer2, input_dim=layer1, activation = \"swish\")\n",
    ")\n",
    "\n",
    "nn.add(\n",
    "    tf.keras.layers.Dense(units = layer3, input_dim=layer2, activation = \"swish\")\n",
    ")\n",
    "\n",
    "# Output layer\n",
    "nn.add(\n",
    "    tf.keras.layers.Dense(units = 1, input_dim=layer3, activation = \"sigmoid\")\n",
    ")\n",
    "# Check the structure of the model\n",
    "nn.summary()"
   ]
  },
  {
   "cell_type": "code",
   "execution_count": 18,
   "metadata": {},
   "outputs": [],
   "source": [
    "# Compile the model\n",
    "nn.compile(loss=\"binary_crossentropy\", optimizer=\"adam\", metrics=\"accuracy\")"
   ]
  },
  {
   "cell_type": "code",
   "execution_count": 19,
   "metadata": {},
   "outputs": [
    {
     "name": "stdout",
     "output_type": "stream",
     "text": [
      "Epoch 1/100\n",
      "803/803 [==============================] - 1s 663us/step - loss: 0.4832 - accuracy: 0.7613\n",
      "Epoch 2/100\n",
      "803/803 [==============================] - 1s 665us/step - loss: 0.4801 - accuracy: 0.7635\n",
      "Epoch 3/100\n",
      "803/803 [==============================] - 1s 663us/step - loss: 0.4795 - accuracy: 0.7633\n",
      "Epoch 4/100\n",
      "803/803 [==============================] - 1s 660us/step - loss: 0.4772 - accuracy: 0.7657\n",
      "Epoch 5/100\n",
      "803/803 [==============================] - 1s 663us/step - loss: 0.4769 - accuracy: 0.7650\n",
      "Epoch 6/100\n",
      "803/803 [==============================] - 1s 665us/step - loss: 0.4764 - accuracy: 0.7657\n",
      "Epoch 7/100\n",
      "803/803 [==============================] - 1s 668us/step - loss: 0.4754 - accuracy: 0.7659\n",
      "Epoch 8/100\n",
      "803/803 [==============================] - 1s 673us/step - loss: 0.4750 - accuracy: 0.7662\n",
      "Epoch 9/100\n",
      "803/803 [==============================] - 1s 677us/step - loss: 0.4742 - accuracy: 0.7669\n",
      "Epoch 10/100\n",
      "803/803 [==============================] - 1s 673us/step - loss: 0.4740 - accuracy: 0.7676\n",
      "Epoch 11/100\n",
      "803/803 [==============================] - 1s 672us/step - loss: 0.4733 - accuracy: 0.7660\n",
      "Epoch 12/100\n",
      "803/803 [==============================] - 1s 670us/step - loss: 0.4728 - accuracy: 0.7669\n",
      "Epoch 13/100\n",
      "803/803 [==============================] - 1s 682us/step - loss: 0.4724 - accuracy: 0.7690\n",
      "Epoch 14/100\n",
      "803/803 [==============================] - 1s 672us/step - loss: 0.4725 - accuracy: 0.7674\n",
      "Epoch 15/100\n",
      "803/803 [==============================] - 1s 672us/step - loss: 0.4716 - accuracy: 0.7689\n",
      "Epoch 16/100\n",
      "803/803 [==============================] - 1s 682us/step - loss: 0.4716 - accuracy: 0.7685\n",
      "Epoch 17/100\n",
      "803/803 [==============================] - 1s 677us/step - loss: 0.4710 - accuracy: 0.7688\n",
      "Epoch 18/100\n",
      "803/803 [==============================] - 1s 668us/step - loss: 0.4707 - accuracy: 0.7685\n",
      "Epoch 19/100\n",
      "803/803 [==============================] - 1s 657us/step - loss: 0.4704 - accuracy: 0.7689\n",
      "Epoch 20/100\n",
      "803/803 [==============================] - 1s 656us/step - loss: 0.4708 - accuracy: 0.7692\n",
      "Epoch 21/100\n",
      "803/803 [==============================] - 1s 710us/step - loss: 0.4700 - accuracy: 0.7685\n",
      "Epoch 22/100\n",
      "803/803 [==============================] - 1s 682us/step - loss: 0.4703 - accuracy: 0.7682\n",
      "Epoch 23/100\n",
      "803/803 [==============================] - 1s 675us/step - loss: 0.4697 - accuracy: 0.7699\n",
      "Epoch 24/100\n",
      "803/803 [==============================] - 1s 670us/step - loss: 0.4692 - accuracy: 0.7702\n",
      "Epoch 25/100\n",
      "803/803 [==============================] - 1s 668us/step - loss: 0.4690 - accuracy: 0.7695\n",
      "Epoch 26/100\n",
      "803/803 [==============================] - 1s 672us/step - loss: 0.4692 - accuracy: 0.7694\n",
      "Epoch 27/100\n",
      "803/803 [==============================] - 1s 667us/step - loss: 0.4684 - accuracy: 0.7694\n",
      "Epoch 28/100\n",
      "803/803 [==============================] - 1s 667us/step - loss: 0.4689 - accuracy: 0.7699\n",
      "Epoch 29/100\n",
      "803/803 [==============================] - 1s 666us/step - loss: 0.4686 - accuracy: 0.7692\n",
      "Epoch 30/100\n",
      "803/803 [==============================] - 1s 661us/step - loss: 0.4681 - accuracy: 0.7704\n",
      "Epoch 31/100\n",
      "803/803 [==============================] - 1s 680us/step - loss: 0.4680 - accuracy: 0.7699\n",
      "Epoch 32/100\n",
      "803/803 [==============================] - 1s 668us/step - loss: 0.4677 - accuracy: 0.7708\n",
      "Epoch 33/100\n",
      "803/803 [==============================] - 1s 662us/step - loss: 0.4676 - accuracy: 0.7702\n",
      "Epoch 34/100\n",
      "803/803 [==============================] - 1s 662us/step - loss: 0.4678 - accuracy: 0.7711\n",
      "Epoch 35/100\n",
      "803/803 [==============================] - 1s 683us/step - loss: 0.4674 - accuracy: 0.7704\n",
      "Epoch 36/100\n",
      "803/803 [==============================] - 1s 712us/step - loss: 0.4673 - accuracy: 0.7722\n",
      "Epoch 37/100\n",
      "803/803 [==============================] - 1s 753us/step - loss: 0.4671 - accuracy: 0.7714\n",
      "Epoch 38/100\n",
      "803/803 [==============================] - 1s 668us/step - loss: 0.4671 - accuracy: 0.7713\n",
      "Epoch 39/100\n",
      "803/803 [==============================] - 1s 671us/step - loss: 0.4672 - accuracy: 0.7704\n",
      "Epoch 40/100\n",
      "803/803 [==============================] - 1s 666us/step - loss: 0.4665 - accuracy: 0.7709\n",
      "Epoch 41/100\n",
      "803/803 [==============================] - 1s 696us/step - loss: 0.4668 - accuracy: 0.7716\n",
      "Epoch 42/100\n",
      "803/803 [==============================] - 1s 769us/step - loss: 0.4664 - accuracy: 0.7717\n",
      "Epoch 43/100\n",
      "803/803 [==============================] - 1s 711us/step - loss: 0.4660 - accuracy: 0.7717\n",
      "Epoch 44/100\n",
      "803/803 [==============================] - 1s 765us/step - loss: 0.4661 - accuracy: 0.7716\n",
      "Epoch 45/100\n",
      "803/803 [==============================] - 1s 712us/step - loss: 0.4661 - accuracy: 0.7720\n",
      "Epoch 46/100\n",
      "803/803 [==============================] - 1s 676us/step - loss: 0.4656 - accuracy: 0.7720\n",
      "Epoch 47/100\n",
      "803/803 [==============================] - 1s 673us/step - loss: 0.4658 - accuracy: 0.7727\n",
      "Epoch 48/100\n",
      "803/803 [==============================] - 1s 690us/step - loss: 0.4653 - accuracy: 0.7718\n",
      "Epoch 49/100\n",
      "803/803 [==============================] - 1s 680us/step - loss: 0.4652 - accuracy: 0.7729\n",
      "Epoch 50/100\n",
      "803/803 [==============================] - 1s 680us/step - loss: 0.4655 - accuracy: 0.7725\n",
      "Epoch 51/100\n",
      "803/803 [==============================] - 1s 702us/step - loss: 0.4652 - accuracy: 0.7727\n",
      "Epoch 52/100\n",
      "803/803 [==============================] - 1s 681us/step - loss: 0.4648 - accuracy: 0.7720\n",
      "Epoch 53/100\n",
      "803/803 [==============================] - 1s 663us/step - loss: 0.4648 - accuracy: 0.7718\n",
      "Epoch 54/100\n",
      "803/803 [==============================] - 1s 675us/step - loss: 0.4646 - accuracy: 0.7725\n",
      "Epoch 55/100\n",
      "803/803 [==============================] - 1s 672us/step - loss: 0.4648 - accuracy: 0.7727\n",
      "Epoch 56/100\n",
      "803/803 [==============================] - 1s 680us/step - loss: 0.4646 - accuracy: 0.7735\n",
      "Epoch 57/100\n",
      "803/803 [==============================] - 1s 673us/step - loss: 0.4645 - accuracy: 0.7727\n",
      "Epoch 58/100\n",
      "803/803 [==============================] - 1s 665us/step - loss: 0.4642 - accuracy: 0.7726\n",
      "Epoch 59/100\n",
      "803/803 [==============================] - 1s 681us/step - loss: 0.4642 - accuracy: 0.7727\n",
      "Epoch 60/100\n",
      "803/803 [==============================] - 1s 687us/step - loss: 0.4640 - accuracy: 0.7726\n",
      "Epoch 61/100\n",
      "803/803 [==============================] - 1s 685us/step - loss: 0.4640 - accuracy: 0.7731\n",
      "Epoch 62/100\n",
      "803/803 [==============================] - 1s 683us/step - loss: 0.4642 - accuracy: 0.7737\n",
      "Epoch 63/100\n",
      "803/803 [==============================] - 1s 675us/step - loss: 0.4639 - accuracy: 0.7730\n",
      "Epoch 64/100\n",
      "803/803 [==============================] - 1s 676us/step - loss: 0.4637 - accuracy: 0.7727\n",
      "Epoch 65/100\n",
      "803/803 [==============================] - 1s 696us/step - loss: 0.4638 - accuracy: 0.7729\n",
      "Epoch 66/100\n",
      "803/803 [==============================] - 1s 677us/step - loss: 0.4641 - accuracy: 0.7736\n",
      "Epoch 67/100\n",
      "803/803 [==============================] - 1s 676us/step - loss: 0.4633 - accuracy: 0.7722\n",
      "Epoch 68/100\n",
      "803/803 [==============================] - 1s 670us/step - loss: 0.4636 - accuracy: 0.7741\n",
      "Epoch 69/100\n",
      "803/803 [==============================] - 1s 667us/step - loss: 0.4627 - accuracy: 0.7730\n",
      "Epoch 70/100\n",
      "803/803 [==============================] - 1s 667us/step - loss: 0.4631 - accuracy: 0.7743\n",
      "Epoch 71/100\n",
      "803/803 [==============================] - 1s 671us/step - loss: 0.4629 - accuracy: 0.7735\n",
      "Epoch 72/100\n",
      "803/803 [==============================] - 1s 733us/step - loss: 0.4630 - accuracy: 0.7730\n",
      "Epoch 73/100\n",
      "803/803 [==============================] - 1s 698us/step - loss: 0.4632 - accuracy: 0.7740\n",
      "Epoch 74/100\n",
      "803/803 [==============================] - 1s 715us/step - loss: 0.4625 - accuracy: 0.7730\n",
      "Epoch 75/100\n",
      "803/803 [==============================] - 1s 691us/step - loss: 0.4625 - accuracy: 0.7732\n",
      "Epoch 76/100\n",
      "803/803 [==============================] - 1s 677us/step - loss: 0.4628 - accuracy: 0.7737\n",
      "Epoch 77/100\n",
      "803/803 [==============================] - 1s 672us/step - loss: 0.4623 - accuracy: 0.7736\n",
      "Epoch 78/100\n",
      "803/803 [==============================] - 1s 680us/step - loss: 0.4624 - accuracy: 0.7743\n",
      "Epoch 79/100\n"
     ]
    },
    {
     "name": "stdout",
     "output_type": "stream",
     "text": [
      "803/803 [==============================] - 1s 675us/step - loss: 0.4624 - accuracy: 0.7743\n",
      "Epoch 80/100\n",
      "803/803 [==============================] - 1s 677us/step - loss: 0.4627 - accuracy: 0.7743\n",
      "Epoch 81/100\n",
      "803/803 [==============================] - 1s 673us/step - loss: 0.4626 - accuracy: 0.7731\n",
      "Epoch 82/100\n",
      "803/803 [==============================] - 1s 683us/step - loss: 0.4623 - accuracy: 0.7741\n",
      "Epoch 83/100\n",
      "803/803 [==============================] - 1s 673us/step - loss: 0.4620 - accuracy: 0.7747\n",
      "Epoch 84/100\n",
      "803/803 [==============================] - 1s 673us/step - loss: 0.4623 - accuracy: 0.7743\n",
      "Epoch 85/100\n",
      "803/803 [==============================] - 1s 670us/step - loss: 0.4618 - accuracy: 0.7741\n",
      "Epoch 86/100\n",
      "803/803 [==============================] - 1s 678us/step - loss: 0.4620 - accuracy: 0.7738\n",
      "Epoch 87/100\n",
      "803/803 [==============================] - 1s 667us/step - loss: 0.4621 - accuracy: 0.7741\n",
      "Epoch 88/100\n",
      "803/803 [==============================] - 1s 672us/step - loss: 0.4619 - accuracy: 0.7736\n",
      "Epoch 89/100\n",
      "803/803 [==============================] - 1s 672us/step - loss: 0.4618 - accuracy: 0.7741\n",
      "Epoch 90/100\n",
      "803/803 [==============================] - 1s 667us/step - loss: 0.4620 - accuracy: 0.7746\n",
      "Epoch 91/100\n",
      "803/803 [==============================] - 1s 671us/step - loss: 0.4612 - accuracy: 0.7751\n",
      "Epoch 92/100\n",
      "803/803 [==============================] - 1s 675us/step - loss: 0.4616 - accuracy: 0.7739\n",
      "Epoch 93/100\n",
      "803/803 [==============================] - 1s 672us/step - loss: 0.4613 - accuracy: 0.7745\n",
      "Epoch 94/100\n",
      "803/803 [==============================] - 1s 678us/step - loss: 0.4620 - accuracy: 0.7745\n",
      "Epoch 95/100\n",
      "803/803 [==============================] - 1s 673us/step - loss: 0.4619 - accuracy: 0.7737\n",
      "Epoch 96/100\n",
      "803/803 [==============================] - 1s 667us/step - loss: 0.4613 - accuracy: 0.7752\n",
      "Epoch 97/100\n",
      "803/803 [==============================] - 1s 670us/step - loss: 0.4613 - accuracy: 0.7742\n",
      "Epoch 98/100\n",
      "803/803 [==============================] - 1s 681us/step - loss: 0.4616 - accuracy: 0.7748\n",
      "Epoch 99/100\n",
      "803/803 [==============================] - 1s 675us/step - loss: 0.4611 - accuracy: 0.7747\n",
      "Epoch 100/100\n",
      "803/803 [==============================] - 1s 671us/step - loss: 0.4618 - accuracy: 0.7738\n"
     ]
    }
   ],
   "source": [
    "# Train the model\n",
    "fit_model = nn.fit(X_train_scaled, Y_train, epochs=100)"
   ]
  },
  {
   "cell_type": "code",
   "execution_count": 20,
   "metadata": {},
   "outputs": [
    {
     "name": "stdout",
     "output_type": "stream",
     "text": [
      "268/268 - 0s - loss: 0.5072 - accuracy: 0.7624\n",
      "Loss: 0.5071990489959717, Accuracy: 0.7624386548995972\n"
     ]
    }
   ],
   "source": [
    "model_loss, model_accuracy = nn.evaluate(X_test_scaled,Y_test,verbose=2)\n",
    "print(f\"Loss: {model_loss}, Accuracy: {model_accuracy}\")"
   ]
  },
  {
   "cell_type": "code",
   "execution_count": 21,
   "metadata": {},
   "outputs": [],
   "source": [
    "nn.save('AlphabetSoupCharity_Optimzation.h5')"
   ]
  },
  {
   "cell_type": "code",
   "execution_count": null,
   "metadata": {},
   "outputs": [],
   "source": []
  }
 ],
 "metadata": {
  "kernelspec": {
   "display_name": "Python [conda env:pythondata] *",
   "language": "python",
   "name": "conda-env-pythondata-py"
  },
  "language_info": {
   "codemirror_mode": {
    "name": "ipython",
    "version": 3
   },
   "file_extension": ".py",
   "mimetype": "text/x-python",
   "name": "python",
   "nbconvert_exporter": "python",
   "pygments_lexer": "ipython3",
   "version": "3.6.10"
  }
 },
 "nbformat": 4,
 "nbformat_minor": 4
}
